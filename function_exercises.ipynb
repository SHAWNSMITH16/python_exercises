{
 "cells": [
  {
   "cell_type": "markdown",
   "id": "f5112b70",
   "metadata": {},
   "source": [
    "Create a file named function_exercises.py for this exercise. After creating each function specified below, write the necessary code in order to test your function.\n",
    "\n",
    "#our sayhello defines a single parameter, name that is a string, and will return a string value\n",
    "def sayhello(name):\n",
    "    # Check to see if the passed argument is equal to our cohort name\n",
    "    if name == \"Darden\":\n",
    "        # Craft the message from the problem spec\n",
    "        message = \"Darden is the name of my class!\"\n",
    "    else:\n",
    "        # Here we use the function parameter to craft a hello message if the conditional is false\n",
    "        message = f\"Hello, {name}!\"\n",
    "    # Regardless of the contents, we'll return the message variable from the function\n",
    "    return message"
   ]
  },
  {
   "cell_type": "markdown",
   "id": "66f23a3f",
   "metadata": {},
   "source": [
    "1. Define a function named is_two. It should accept one input and return True if the passed input is either the number or the string 2, False otherwise."
   ]
  },
  {
   "cell_type": "code",
   "execution_count": 63,
   "id": "080c1d21",
   "metadata": {},
   "outputs": [
    {
     "name": "stdout",
     "output_type": "stream",
     "text": [
      "False\n"
     ]
    }
   ],
   "source": [
    "#The is_two defines a single parameter, char, that is an integer or a string and will \n",
    "#return a boolean value if it meets certain conditions\n",
    "def is_two(char):\n",
    "    #Checking here with an if/else statement to see if the passed argument meets the condition int 2 or str 2\n",
    "    if char == 2 or char == '2':\n",
    "        #returning True when it meets the conditions\n",
    "        return True\n",
    "    else:\n",
    "        #returning False if it does not meet either condition\n",
    "        return False\n",
    "#Calling to test the function here with the argument 'p'\n",
    "print(is_two('p'))\n"
   ]
  },
  {
   "cell_type": "markdown",
   "id": "eb7f6b38",
   "metadata": {},
   "source": [
    "2. Define a function named is_vowel. It should return True if the passed string is a vowel, False otherwise."
   ]
  },
  {
   "cell_type": "code",
   "execution_count": 72,
   "id": "7a531f85",
   "metadata": {},
   "outputs": [
    {
     "data": {
      "text/plain": [
       "False"
      ]
     },
     "execution_count": 72,
     "metadata": {},
     "output_type": "execute_result"
    }
   ],
   "source": [
    "#The is_vowel defines a single parameter, char, that is a str() and will return a boolean value\n",
    "#if it meets certain criteria\n",
    "def is_vowel(char):\n",
    "    #Checking here with an if/else statement to see if the passed argument has any vowels in it, lower or upper case\n",
    "    if char in ['a', 'e', 'i', 'o', 'u', 'A', 'E', 'I', 'O' , 'U']:\n",
    "        #returning boolean True if the argument was a vowel\n",
    "        return True\n",
    "    else:\n",
    "        #returning boolean False if the argument was not a vowel\n",
    "        return False\n",
    "#Calling to test the function here with the argument 's'  \n",
    "is_vowel('s')\n"
   ]
  },
  {
   "cell_type": "markdown",
   "id": "57b55cd3",
   "metadata": {},
   "source": [
    "3. Define a function named is_consonant. It should return True if the passed string is a consonant, False otherwise. Use your is_vowel function to accomplish this."
   ]
  },
  {
   "cell_type": "code",
   "execution_count": 10,
   "id": "e56ef55b",
   "metadata": {},
   "outputs": [
    {
     "data": {
      "text/plain": [
       "False"
      ]
     },
     "execution_count": 10,
     "metadata": {},
     "output_type": "execute_result"
    }
   ],
   "source": [
    "#The is_vowel function defines a single parameter, char, that is a str() and will return a boolean value\n",
    "#if it meets certain criteria\n",
    "def is_consonant(char):\n",
    "    #Checking here with an if/else statement to see if the passed argument has any vowels in it, lower or upper case\n",
    "    if char not in ['a', 'e', 'i', 'o', 'u']:\n",
    "        #If the argument has any lower or upper case vowels, returns True if not else is False\n",
    "        return True\n",
    "    else:\n",
    "        return False\n",
    "#Calling to test the function here with the argument 'o'    \n",
    "is_consonant('o')"
   ]
  },
  {
   "cell_type": "markdown",
   "id": "e6a486a4",
   "metadata": {},
   "source": [
    "4. Define a function that accepts a string that is a word. The function should capitalize the first letter of the word if the word starts with a consonant."
   ]
  },
  {
   "cell_type": "code",
   "execution_count": 14,
   "id": "b8b04fde",
   "metadata": {},
   "outputs": [
    {
     "name": "stdout",
     "output_type": "stream",
     "text": [
      "Football\n"
     ]
    }
   ],
   "source": [
    "#The is_word function defines a single parameter, char, that's a str and returns that value with the 1st letter capitalized\n",
    "def is_word(char):\n",
    "    #Checking here to see if the arguemnt is an integer using the isdigit method, and if so, return False\n",
    "    if char.isdigit():\n",
    "        return False\n",
    "    else:\n",
    "        #After filtering out invalid inputs, uses the capitalize method to capitalize the first letter of the argument\n",
    "        return char.capitalize()\n",
    "\n",
    "#Calling to test the function here with the argument 'football'\n",
    "print(is_word('football'))\n"
   ]
  },
  {
   "cell_type": "markdown",
   "id": "8270644b",
   "metadata": {},
   "source": [
    "5. Define a function named calculate_tip. It should accept a tip percentage (a number between 0 and 1) and the bill total, and return the amount to tip.\n"
   ]
  },
  {
   "cell_type": "code",
   "execution_count": 24,
   "id": "d1d621d9",
   "metadata": {},
   "outputs": [
    {
     "name": "stdout",
     "output_type": "stream",
     "text": [
      "Your total bill including tip is: $ 60.0\n"
     ]
    }
   ],
   "source": [
    "#The calculate_tip function defines two parameters, bill and tip, that takes in 2 integers and \n",
    "#calculates the tip based off of the total of the bill\n",
    "def calculate_tip(bill, tip):\n",
    "    #Calculates the the total amount owed after calculating the tip in as well\n",
    "    amount_owed = (bill * tip) + bill\n",
    "    #Returns the answer after calculations\n",
    "    return amount_owed\n",
    "#Assigning the variables here\n",
    "bill_total = 50\n",
    "tip_percentage = .20\n",
    "#Calling to test the function here with the arguments 'bill_total and tip_percentage'\n",
    "print('Your total bill including tip is: $', calculate_tip(bill_total, tip_percentage))\n",
    "    "
   ]
  },
  {
   "cell_type": "markdown",
   "id": "6e373432",
   "metadata": {},
   "source": [
    "6. Define a function named apply_discount. It should accept a original price, and a discount percentage, and return the price after the discount is applied.\n"
   ]
  },
  {
   "cell_type": "code",
   "execution_count": 25,
   "id": "987efa22",
   "metadata": {},
   "outputs": [
    {
     "name": "stdout",
     "output_type": "stream",
     "text": [
      "75.0\n"
     ]
    }
   ],
   "source": [
    "def apply_discount(price, discount):\n",
    "    amount_owed = price - (price * discount)\n",
    "    return amount_owed\n",
    "\n",
    "item_price = 100\n",
    "discount_percent = .25\n",
    "print(apply_discount(item_price, discount_percent))"
   ]
  },
  {
   "cell_type": "markdown",
   "id": "77eff8de",
   "metadata": {},
   "source": [
    "7. Define a function named handle_commas. It should accept a string that is a number that contains commas in it as input, and return a number as output.\n"
   ]
  },
  {
   "cell_type": "code",
   "execution_count": 34,
   "id": "ca0ad33e",
   "metadata": {},
   "outputs": [
    {
     "name": "stdout",
     "output_type": "stream",
     "text": [
      "4\n"
     ]
    }
   ],
   "source": [
    "def handle_commas(comma_counter):\n",
    "    count = 0\n",
    "    object = ','\n",
    "    for i in comma_counter:\n",
    "        if i in object:\n",
    "            count = count + 1\n",
    "    return count\n",
    "\n",
    "sentence = 'one, two, three, four, but not five'\n",
    "    \n",
    "print(handle_commas(sentence))\n",
    "        "
   ]
  },
  {
   "cell_type": "markdown",
   "id": "a48f1df0",
   "metadata": {},
   "source": [
    "8. Define a function named get_letter_grade. It should accept a number and return the letter grade associated with that number (A-F)."
   ]
  },
  {
   "cell_type": "code",
   "execution_count": 38,
   "id": "c90c7203",
   "metadata": {},
   "outputs": [
    {
     "name": "stdout",
     "output_type": "stream",
     "text": [
      "Please enter your numeric grade: 75\n",
      "C's get degrees!!\n",
      "75\n"
     ]
    }
   ],
   "source": [
    "def get_letter_grade(num_grade):\n",
    "    \n",
    "    if num_grade > 89:\n",
    "        print('Congrats, you got an \"A\"')\n",
    "    elif num_grade > 79:\n",
    "        print('Good job, you got a \"B\"')\n",
    "    elif num_grade > 69:\n",
    "        print('C\\'s get degrees!!')\n",
    "    elif num_grade > 59:\n",
    "        print('Looks like you need remedial training - \"D\"')\n",
    "    else:\n",
    "        print('See you in summer school!')\n",
    "    return num_grade\n",
    "    \n",
    "\n",
    "user_grade = int(input('Please enter your numeric grade: '))\n",
    "\n",
    "print(get_letter_grade(user_grade))"
   ]
  },
  {
   "cell_type": "markdown",
   "id": "a6f7ea22",
   "metadata": {},
   "source": [
    "\n",
    "9. Define a function named remove_vowels that accepts a string and returns a string with all the vowels removed.\n"
   ]
  },
  {
   "cell_type": "code",
   "execution_count": 41,
   "id": "86ab0f59",
   "metadata": {},
   "outputs": [
    {
     "name": "stdout",
     "output_type": "stream",
     "text": [
      "Ths s th sntnc wth vwls, bt snc  ht vwls,  m gng t rmv thm\n"
     ]
    }
   ],
   "source": [
    "def remove_vowels(char):\n",
    "    for i in \"aeiouAEIOU\":\n",
    "        char = char.replace(i, \"\")\n",
    "    return char\n",
    "    \n",
    "sentence = 'This is the sentence with vowels, but since I hate vowels, I am going to remove them'\n",
    "\n",
    "print(remove_vowels(sentence))\n",
    "\n"
   ]
  },
  {
   "cell_type": "markdown",
   "id": "bcdb7c98",
   "metadata": {},
   "source": [
    "10. Define a function named normalize_name. It should accept a string and return a valid python identifier, that is:\n",
    "anything that is not a valid python identifier should be removed\n",
    "leading and trailing whitespace should be removed\n",
    "everything should be lowercase\n",
    "spaces should be replaced with underscores\n",
    "for example:\n",
    "Name will become name\n",
    "First Name will become first_name\n",
    "% Completed will become completed"
   ]
  },
  {
   "cell_type": "code",
   "execution_count": 49,
   "id": "12d44f45",
   "metadata": {},
   "outputs": [
    {
     "name": "stdout",
     "output_type": "stream",
     "text": [
      "name\n",
      "firstname\n",
      "completed\n"
     ]
    }
   ],
   "source": [
    "import string\n",
    "import re\n",
    "\n",
    "def normalize_name(char):\n",
    "    pattern = r'[' + string.punctuation + ']'\n",
    "    char = re.sub(pattern, '', char)\n",
    "    return char.lower().strip().replace(' ', \"_\")\n",
    "    \n",
    "print(normalize_name('Name'))\n",
    "print(normalize_name('First_Name'))\n",
    "print(normalize_name('% Completed'))\n",
    "\n",
    "\n"
   ]
  },
  {
   "cell_type": "markdown",
   "id": "1ff2b6c2",
   "metadata": {},
   "source": [
    "11. Write a function named cumulative_sum that accepts a list of numbers and returns a list that is the cumulative sum of the numbers in the list.\n",
    "cumulative_sum([1, 1, 1]) returns [1, 2, 3]\n",
    "cumulative_sum([1, 2, 3, 4]) returns [1, 3, 6, 10]"
   ]
  },
  {
   "cell_type": "code",
   "execution_count": 58,
   "id": "d0727ba5",
   "metadata": {},
   "outputs": [
    {
     "name": "stdout",
     "output_type": "stream",
     "text": [
      "[1, 3, 6, 10]\n"
     ]
    }
   ],
   "source": [
    "def cumulative_sum(list_of_nums):\n",
    "    new_list = []\n",
    "    length = len(list_of_nums)\n",
    "    new_list = [sum(list_of_nums[0:x:1]) for x in range(0, length + 1)]\n",
    "    return new_list [1:]\n",
    "    \n",
    "numbers = [1, 2, 3, 4]\n",
    "print(cumulative_sum(numbers))\n",
    "\n",
    "\n"
   ]
  },
  {
   "cell_type": "code",
   "execution_count": null,
   "id": "d03459f4",
   "metadata": {},
   "outputs": [],
   "source": []
  },
  {
   "cell_type": "code",
   "execution_count": null,
   "id": "d537b750",
   "metadata": {},
   "outputs": [],
   "source": []
  }
 ],
 "metadata": {
  "kernelspec": {
   "display_name": "Python 3 (ipykernel)",
   "language": "python",
   "name": "python3"
  },
  "language_info": {
   "codemirror_mode": {
    "name": "ipython",
    "version": 3
   },
   "file_extension": ".py",
   "mimetype": "text/x-python",
   "name": "python",
   "nbconvert_exporter": "python",
   "pygments_lexer": "ipython3",
   "version": "3.9.13"
  }
 },
 "nbformat": 4,
 "nbformat_minor": 5
}
