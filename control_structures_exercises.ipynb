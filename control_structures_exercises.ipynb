{
 "cells": [
  {
   "cell_type": "markdown",
   "id": "cfe2c1d9",
   "metadata": {},
   "source": [
    "\n",
    "1. Conditional Basics\n",
    "\n",
    "a. prompt the user for a day of the week, print out whether the day is Monday or not\n",
    "\n",
    "b. prompt the user for a day of the week, print out whether the day is a weekday or a weekend\n",
    "\n",
    "c. create variables and make up values for\n",
    "\n",
    "-the number of hours worked in one week\n",
    "-the hourly rate\n",
    "-how much the week's paycheck will be\n",
    "\n",
    "write the python code that calculates the weekly paycheck. \n",
    "You get paid time and a half if you work more than 40 hours\n"
   ]
  },
  {
   "cell_type": "code",
   "execution_count": 2,
   "id": "e3dd67ac",
   "metadata": {},
   "outputs": [
    {
     "name": "stdout",
     "output_type": "stream",
     "text": [
      "Is today Monday? (y/nn\n",
      "It is not Monday\n"
     ]
    }
   ],
   "source": [
    "is_monday_or_not = input('Is today Monday? (y/n')\n",
    "if is_monday_or_not == 'y':\n",
    "    print('It is Monday')\n",
    "else:\n",
    "    print('It is not Monday')"
   ]
  },
  {
   "cell_type": "code",
   "execution_count": 208,
   "id": "9cd8f1a5",
   "metadata": {},
   "outputs": [
    {
     "name": "stdout",
     "output_type": "stream",
     "text": [
      "What day of the week is it? SUNdaY\n",
      "It's party time\n"
     ]
    }
   ],
   "source": [
    "weekday = ['monday', 'tuesday', 'wednesday', 'thursday', 'friday']\n",
    "weekend = ['saturday', 'sunday']\n",
    "\n",
    "is_weekday_or_weekend = input('What day of the week is it? ')\n",
    "\n",
    "if is_weekday_or_weekend.strip().lower() in weekday:\n",
    "    print('It is a weekday, get back to work')\n",
    "elif is_weekday_or_weekend.strip().lower() in weekend:\n",
    "    print('It\\'s party time')\n",
    "else:\n",
    "    print('You spelled something incorrectly')\n",
    "    "
   ]
  },
  {
   "cell_type": "code",
   "execution_count": 209,
   "id": "01b43cda",
   "metadata": {},
   "outputs": [
    {
     "name": "stdout",
     "output_type": "stream",
     "text": [
      "Your paycheck will be $ 2475.0\n"
     ]
    }
   ],
   "source": [
    "hours_worked = 50\n",
    "if hours_worked > 40:\n",
    "    regular_hours = 40\n",
    "\n",
    "hourly_rate = 45\n",
    "overtime_hours = hours_worked - 40\n",
    "overtime_pay = hourly_rate * 1.5\n",
    "\n",
    "paycheck_amount = (regular_hours * hourly_rate) + (overtime_hours * overtime_pay) \n",
    "\n",
    "\n",
    "print('Your paycheck will be $', paycheck_amount)\n"
   ]
  },
  {
   "cell_type": "markdown",
   "id": "e3c32281",
   "metadata": {},
   "source": [
    "2. Loop Basics\n",
    "\n",
    "a. While\n",
    "\n",
    "-Create an integer variable i with a value of 5.\n",
    "\n",
    "-Create a while loop that runs so long as i is less than or equal to 15\n",
    "\n",
    "-Each loop iteration, output the current value of i, then increment i by one."
   ]
  },
  {
   "cell_type": "code",
   "execution_count": 18,
   "id": "09239874",
   "metadata": {},
   "outputs": [
    {
     "name": "stdout",
     "output_type": "stream",
     "text": [
      "5\n",
      "6\n",
      "7\n",
      "8\n",
      "9\n",
      "10\n",
      "11\n",
      "12\n",
      "13\n",
      "14\n",
      "15\n"
     ]
    }
   ],
   "source": [
    "i = 5\n",
    "\n",
    "while i <= 15:\n",
    "    print (i)\n",
    "    \n",
    "    i += 1"
   ]
  },
  {
   "cell_type": "markdown",
   "id": "ff80b81e",
   "metadata": {},
   "source": [
    "-Create a while loop that will count by 2's starting with 0 and ending at 100. \n",
    "Follow each number with a new line.\n",
    "-Alter your loop to count backwards by 5's from 100 to -10.\n",
    "-Create a while loop that starts at 2, and displays the number squared on each line while the number is less than 1,000,000."
   ]
  },
  {
   "cell_type": "code",
   "execution_count": 210,
   "id": "d0e0b247",
   "metadata": {},
   "outputs": [
    {
     "name": "stdout",
     "output_type": "stream",
     "text": [
      "0\n",
      "2\n",
      "4\n",
      "6\n",
      "8\n",
      "10\n",
      "12\n",
      "14\n",
      "16\n",
      "18\n",
      "20\n",
      "22\n",
      "24\n",
      "26\n",
      "28\n",
      "30\n",
      "32\n",
      "34\n",
      "36\n",
      "38\n",
      "40\n",
      "42\n",
      "44\n",
      "46\n",
      "48\n",
      "50\n",
      "52\n",
      "54\n",
      "56\n",
      "58\n",
      "60\n",
      "62\n",
      "64\n",
      "66\n",
      "68\n",
      "70\n",
      "72\n",
      "74\n",
      "76\n",
      "78\n",
      "80\n",
      "82\n",
      "84\n",
      "86\n",
      "88\n",
      "90\n",
      "92\n",
      "94\n",
      "96\n",
      "98\n",
      "100\n"
     ]
    }
   ],
   "source": [
    "n = 0\n",
    "\n",
    "while n <= 100:\n",
    "    print(n)\n",
    "    \n",
    "    n += 2"
   ]
  },
  {
   "cell_type": "code",
   "execution_count": 212,
   "id": "73fca82a",
   "metadata": {},
   "outputs": [
    {
     "name": "stdout",
     "output_type": "stream",
     "text": [
      "100\n",
      "95\n",
      "90\n",
      "85\n",
      "80\n",
      "75\n",
      "70\n",
      "65\n",
      "60\n",
      "55\n",
      "50\n",
      "45\n",
      "40\n",
      "35\n",
      "30\n",
      "25\n",
      "20\n",
      "15\n",
      "10\n",
      "5\n",
      "0\n",
      "-5\n",
      "-10\n"
     ]
    }
   ],
   "source": [
    "n = 100\n",
    "\n",
    "while n != -15:\n",
    "    print(n)\n",
    "    \n",
    "    n -= 5"
   ]
  },
  {
   "cell_type": "code",
   "execution_count": 218,
   "id": "8babd0bf",
   "metadata": {},
   "outputs": [
    {
     "name": "stdout",
     "output_type": "stream",
     "text": [
      "2\n",
      "4\n",
      "16\n",
      "256\n",
      "65536\n"
     ]
    }
   ],
   "source": [
    "n = 2\n",
    "while n < 1000000:\n",
    "    \n",
    "    print(n)\n",
    "    \n",
    "    n **= 2\n",
    "    "
   ]
  },
  {
   "cell_type": "markdown",
   "id": "46b1a30a",
   "metadata": {},
   "source": [
    "-Write a loop that uses print to create the output shown below.\n"
   ]
  },
  {
   "cell_type": "code",
   "execution_count": 8,
   "id": "0170a809",
   "metadata": {},
   "outputs": [
    {
     "name": "stdout",
     "output_type": "stream",
     "text": [
      "100\n",
      "95\n",
      "90\n",
      "85\n",
      "80\n",
      "75\n",
      "70\n",
      "65\n",
      "60\n",
      "55\n",
      "50\n",
      "45\n",
      "40\n",
      "35\n",
      "30\n",
      "25\n",
      "20\n",
      "15\n",
      "10\n",
      "5\n"
     ]
    }
   ],
   "source": [
    "new_output = 100\n",
    "\n",
    "while new_output > 0:\n",
    "    print(new_output)\n",
    "    new_output += -5\n"
   ]
  },
  {
   "cell_type": "markdown",
   "id": "73d7904c",
   "metadata": {},
   "source": [
    "B. For Loops\n",
    "\n",
    "1. Write some code that prompts the user for a number, then shows a multiplication table up through 10 for that number.\n"
   ]
  },
  {
   "cell_type": "code",
   "execution_count": 19,
   "id": "eda0a408",
   "metadata": {},
   "outputs": [
    {
     "name": "stdout",
     "output_type": "stream",
     "text": [
      "Please enter a number between 1 and 12: 5\n",
      "5  x  1 = 5\n",
      "5  x  2 = 10\n",
      "5  x  3 = 15\n",
      "5  x  4 = 20\n",
      "5  x  5 = 25\n",
      "5  x  6 = 30\n",
      "5  x  7 = 35\n",
      "5  x  8 = 40\n",
      "5  x  9 = 45\n",
      "5  x  10 = 50\n"
     ]
    }
   ],
   "source": [
    "user_input = int(input('Please enter a number between 1 and 12: '))\n",
    "\n",
    "for f in range(11):\n",
    "    factor = f * user_input\n",
    "    if f == 0:\n",
    "        continue\n",
    "    print(user_input, ' x ', f, '=', factor)\n",
    "    \n",
    "\n",
    "\n",
    "\n",
    "\n"
   ]
  },
  {
   "cell_type": "code",
   "execution_count": 219,
   "id": "14bf6658",
   "metadata": {},
   "outputs": [
    {
     "name": "stdout",
     "output_type": "stream",
     "text": [
      "1\n",
      "22\n",
      "333\n",
      "4444\n",
      "55555\n",
      "666666\n",
      "7777777\n",
      "88888888\n",
      "999999999\n"
     ]
    }
   ],
   "source": [
    "for i in range(1, 10):\n",
    "    print (i * str(i))"
   ]
  },
  {
   "cell_type": "markdown",
   "id": "26cb556c",
   "metadata": {},
   "source": [
    "C. break and continue\n",
    "\n",
    "1.Write a program that prompts the user for a positive integer. Next write a loop that prints out the numbers from the number the user entered down to 1.\n",
    "\n",
    "2. The input function can be used to prompt for input and use that input in your python code. Prompt the user to enter a positive number and write a loop that counts from 0 to that number. (Hints: first make sure that the value the user entered is a valid number, also note that the input function returns a string, so you'll need to convert this to a numeric type.)\n"
   ]
  },
  {
   "cell_type": "code",
   "execution_count": 220,
   "id": "a9a23070",
   "metadata": {},
   "outputs": [
    {
     "name": "stdout",
     "output_type": "stream",
     "text": [
      "Please enter a positive number: 7\n",
      "7\n",
      "6\n",
      "5\n",
      "4\n",
      "3\n",
      "2\n",
      "1\n"
     ]
    }
   ],
   "source": [
    "user_number = int(input('Please enter a positive number: '))\n",
    "\n",
    "if user_number < 0:\n",
    "        user_number = user_number * -1\n",
    "        print('You didn\\'t follow directions, but don\\'t worry, I fixed your mistake!')\n",
    "\n",
    "while user_number > 0:\n",
    "    print (user_number)\n",
    "    \n",
    "    user_number -= 1"
   ]
  },
  {
   "cell_type": "code",
   "execution_count": 221,
   "id": "7ae093ee",
   "metadata": {},
   "outputs": [
    {
     "name": "stdout",
     "output_type": "stream",
     "text": [
      "Please enter a positive number: 3\n",
      "0\n",
      "1\n",
      "2\n",
      "3\n"
     ]
    }
   ],
   "source": [
    "user_number = input('Please enter a positive number: ')\n",
    "\n",
    "if int(user_number) < 0:\n",
    "    user_number = user_number * -1\n",
    "    print('You didn\\'t follow directions, but don\\'t worry, I fixed your mistake!')\n",
    "\n",
    "n = 0\n",
    "    \n",
    "while n <= 1000000:\n",
    "    print(n)\n",
    "    if n == int(user_number):\n",
    "        break\n",
    "    n += 1"
   ]
  },
  {
   "cell_type": "markdown",
   "id": "d8001ad8",
   "metadata": {},
   "source": [
    "Prompt the user for an odd number between 1 and 50. Use a loop and a break statement to continue prompting the user if they enter invalid input. (Hint: use the isdigit method on strings to determine this). Use a loop and the continue statement to output all the odd numbers between 1 and 50, except for the number the user entered.\n",
    "\n",
    "\n",
    "user_input = input('Please enter an odd number between 1 and 50: ')\n",
    "        \n",
    "n = 1\n",
    "\n",
    "for n in range(50):\n",
    "    if n % 2 == 0:\n",
    "        continue\n",
    "    elif n == int(user_input):\n",
    "        print('Why do you hate the number ', n)\n",
    "        continue\n",
    "    \n",
    "    print ('Here is an odd number: ', n)\n",
    "    \n",
    "    n += 1"
   ]
  },
  {
   "cell_type": "code",
   "execution_count": 233,
   "id": "ab055ba1",
   "metadata": {},
   "outputs": [
    {
     "name": "stdout",
     "output_type": "stream",
     "text": [
      "Please enter an odd number between 1 and 50: 13\n",
      "Here is an odd number:  1\n",
      "Here is an odd number:  3\n",
      "Here is an odd number:  5\n",
      "Here is an odd number:  7\n",
      "Here is an odd number:  9\n",
      "Here is an odd number:  11\n",
      "Why do you hate this number? 13\n",
      "Here is an odd number:  15\n",
      "Here is an odd number:  17\n",
      "Here is an odd number:  19\n",
      "Here is an odd number:  21\n",
      "Here is an odd number:  23\n",
      "Here is an odd number:  25\n",
      "Here is an odd number:  27\n",
      "Here is an odd number:  29\n",
      "Here is an odd number:  31\n",
      "Here is an odd number:  33\n",
      "Here is an odd number:  35\n",
      "Here is an odd number:  37\n",
      "Here is an odd number:  39\n",
      "Here is an odd number:  41\n",
      "Here is an odd number:  43\n",
      "Here is an odd number:  45\n",
      "Here is an odd number:  47\n",
      "Here is an odd number:  49\n"
     ]
    }
   ],
   "source": [
    "x = 1\n",
    "while x < 10:\n",
    "\n",
    "    user_input = input('Please enter an odd number between 1 and 50: ')\n",
    "    if int(user_input) % 2 == 0:\n",
    "        print('I\\'ll give you that one, now enter an ODD number')\n",
    "    elif int(user_input) < 1 or int(user_input) > 50:\n",
    "        print('Math is hard, but choose a number BETWEEN 1 and 50: ')\n",
    "    #if user_input is not user_input.isdigit():\n",
    "        #print('I didn\\'t want roman numerals, now please put a normal number')\n",
    "    elif int(user_input) % 2 == 1:\n",
    "        break\n",
    "        \n",
    "n = 1\n",
    "while n < 51:\n",
    "    if n % 2 == 0:\n",
    "        n += 1\n",
    "        continue\n",
    "    elif n == int(user_input):\n",
    "        print('Why do you hate this number?', n)\n",
    "    else:    \n",
    "        print('Here is an odd number: ', n)   \n",
    "    \n",
    "    n += 1 \n",
    "    \n",
    "  "
   ]
  },
  {
   "cell_type": "markdown",
   "id": "96b464a6",
   "metadata": {},
   "source": [
    "### 3. Fizzbuzz\n",
    "\n",
    "a. One of the most common interview questions for entry-level programmers is the FizzBuzz test. Developed by Imran Ghory, the test is designed to test basic looping and conditional logic skills.\n",
    "\n",
    "-Write a program that prints the numbers from 1 to 100.\n",
    "\n",
    "-For multiples of three print \"Fizz\" instead of the number\n",
    "\n",
    "-For the multiples of five print \"Buzz\".\n",
    "\n",
    "-For numbers which are multiples of both three and five print \"FizzBuzz\".\n"
   ]
  },
  {
   "cell_type": "code",
   "execution_count": 229,
   "id": "26cd4efb",
   "metadata": {},
   "outputs": [
    {
     "name": "stdout",
     "output_type": "stream",
     "text": [
      "1\n",
      "2\n",
      "Fizz\n",
      "4\n",
      "Buzz\n",
      "Fizz\n",
      "7\n",
      "8\n",
      "Fizz\n",
      "Buzz\n",
      "11\n",
      "Fizz\n",
      "13\n",
      "14\n",
      "FizzBuzz\n",
      "16\n",
      "17\n",
      "Fizz\n",
      "19\n",
      "Buzz\n",
      "Fizz\n",
      "22\n",
      "23\n",
      "Fizz\n",
      "Buzz\n",
      "26\n",
      "Fizz\n",
      "28\n",
      "29\n",
      "FizzBuzz\n",
      "31\n",
      "32\n",
      "Fizz\n",
      "34\n",
      "Buzz\n",
      "Fizz\n",
      "37\n",
      "38\n",
      "Fizz\n",
      "Buzz\n",
      "41\n",
      "Fizz\n",
      "43\n",
      "44\n",
      "FizzBuzz\n",
      "46\n",
      "47\n",
      "Fizz\n",
      "49\n",
      "Buzz\n",
      "Fizz\n",
      "52\n",
      "53\n",
      "Fizz\n",
      "Buzz\n",
      "56\n",
      "Fizz\n",
      "58\n",
      "59\n",
      "FizzBuzz\n",
      "61\n",
      "62\n",
      "Fizz\n",
      "64\n",
      "Buzz\n",
      "Fizz\n",
      "67\n",
      "68\n",
      "Fizz\n",
      "Buzz\n",
      "71\n",
      "Fizz\n",
      "73\n",
      "74\n",
      "FizzBuzz\n",
      "76\n",
      "77\n",
      "Fizz\n",
      "79\n",
      "Buzz\n",
      "Fizz\n",
      "82\n",
      "83\n",
      "Fizz\n",
      "Buzz\n",
      "86\n",
      "Fizz\n",
      "88\n",
      "89\n",
      "FizzBuzz\n",
      "91\n",
      "92\n",
      "Fizz\n",
      "94\n",
      "Buzz\n",
      "Fizz\n",
      "97\n",
      "98\n",
      "Fizz\n",
      "Buzz\n"
     ]
    }
   ],
   "source": [
    "for n in range(1, 101):\n",
    "    if n % 15 == 0:\n",
    "        print ('FizzBuzz')\n",
    "    elif n % 3 == 0:\n",
    "        print ('Fizz')\n",
    "    elif n % 5 == 0:\n",
    "        print ('Buzz')\n",
    "    \n",
    "    else:\n",
    "        print (n)\n",
    "\n",
    "    \n",
    "    \n",
    " "
   ]
  },
  {
   "cell_type": "markdown",
   "id": "73aca18a",
   "metadata": {},
   "source": [
    "Display a table of powers.\n",
    "\n",
    "Prompt the user to enter an integer.\n",
    "Display a table of squares and cubes from 1 to the value entered.\n",
    "Ask if the user wants to continue.\n",
    "Assume that the user will enter valid data.\n",
    "Only continue if the user agrees to."
   ]
  },
  {
   "cell_type": "code",
   "execution_count": 161,
   "id": "c04d1341",
   "metadata": {},
   "outputs": [
    {
     "name": "stdout",
     "output_type": "stream",
     "text": [
      "What number would you like to up to? 4\n",
      "Your number    Your number squared Your number cubed\n",
      "1 1 1\n",
      "2 4 8\n",
      "3 9 27\n",
      "4 16 64\n"
     ]
    }
   ],
   "source": [
    "your_number = int(input('What number would you like to up to? '))\n",
    "n = 1\n",
    "table_header = ['Your Number', ' Your number squared', 'Your number cubed']\n",
    "print (f\"{'Your number' : <15}{'Your number squared' : ^20}{'Your number cubed' : >10}\")\n",
    "while n <= your_number:\n",
    "    print(n, n ** 2, n ** 3)\n",
    "    \n",
    "    n += 1\n",
    "  "
   ]
  },
  {
   "cell_type": "markdown",
   "id": "c9af34c8",
   "metadata": {},
   "source": [
    "Convert given number grades into letter grades.\n",
    "\n",
    "Prompt the user for a numerical grade from 0 to 100.\n",
    "Display the corresponding letter grade.\n",
    "Prompt the user to continue.\n",
    "Assume that the user will enter valid integers for the grades.\n",
    "The application should only continue if the user agrees to.\n",
    "Grade Ranges:\n",
    "\n",
    "A : 100 - 88\n",
    "B : 87 - 80\n",
    "C : 79 - 67\n",
    "D : 66 - 60\n",
    "F : 59 - 0"
   ]
  },
  {
   "cell_type": "code",
   "execution_count": 173,
   "id": "c00d46d7",
   "metadata": {},
   "outputs": [
    {
     "name": "stdout",
     "output_type": "stream",
     "text": [
      "Please enter your numeric grade: 94\n",
      "Congrats, you got an \"A\"\n",
      "Would you like to continue? y/ny\n",
      "Please enter your numeric grade: 34\n",
      "See you in summer school!\n",
      "Would you like to continue? y/ny\n",
      "Please enter your numeric grade: 76\n",
      "C's get degrees!!\n",
      "Would you like to continue? y/nn\n"
     ]
    }
   ],
   "source": [
    "\n",
    "i = 1\n",
    "\n",
    "while i < 10:\n",
    "    num_grade = int(input('Please enter your numeric grade: '))\n",
    "    if num_grade > 87:\n",
    "        print('Congrats, you got an \"A\"')\n",
    "    elif num_grade > 79:\n",
    "        print('Good job, you got a \"B\"')\n",
    "    elif num_grade > 66:\n",
    "        print('C\\'s get degrees!!')\n",
    "    elif num_grade > 59:\n",
    "        print('Looks like you need remedial training - \"D\"')\n",
    "    else:\n",
    "        print('See you in summer school!')\n",
    "    \n",
    "    c = input('Would you like to continue? y/n: ')\n",
    "    if c == 'n':\n",
    "        break\n",
    "    else:\n",
    "        continue\n",
    "\n",
    "\n"
   ]
  },
  {
   "cell_type": "code",
   "execution_count": 239,
   "id": "816d57ad",
   "metadata": {},
   "outputs": [
    {
     "name": "stdout",
     "output_type": "stream",
     "text": [
      "Title: The Phantom Tollbooth.\n",
      "Author: Norton Juster.\n",
      "Genre: Fantasy.\n",
      "\n",
      "Title: Nichomachean Ethics.\n",
      "Author: Aristotle.\n",
      "Genre: Philosophy.\n",
      "\n",
      "Title: Atlas Shrugged.\n",
      "Author: Ayn Rand.\n",
      "Genre: Fiction.\n",
      "\n"
     ]
    }
   ],
   "source": [
    "books_read = [{'title': 'The Phantom Tollbooth', 'author': 'Norton Juster', 'genre': 'Fantasy'},\n",
    "              {'title': 'Nichomachean Ethics', 'author': 'Aristotle', 'genre': 'Philosophy'},\n",
    "                 {'title': 'Atlas Shrugged', 'author': 'Ayn Rand', 'genre': 'Fiction'}]\n",
    "\n",
    "#print(books_read[1])\n",
    "\n",
    "for book in books_read:\n",
    "    \n",
    "    print('Title: {}.'.format(book['title']))\n",
    "    \n",
    "    print('Author: {}.'.format(book['author']))\n",
    "    \n",
    "    print('Genre: {}.'.format(book['genre']))\n",
    "    \n",
    "    print()\n",
    "    \n",
    "    "
   ]
  },
  {
   "cell_type": "code",
   "execution_count": 236,
   "id": "567883e1",
   "metadata": {},
   "outputs": [
    {
     "name": "stdout",
     "output_type": "stream",
     "text": [
      "Which is your favorite genre? fiction\n",
      "[]\n",
      "[]\n",
      "['Atlas Shrugged']\n"
     ]
    }
   ],
   "source": [
    "your_genre = input('Which is your favorite genre? ')\n",
    "\n",
    "interesting_books = []\n",
    "\n",
    "for book in books_read:\n",
    "    if book['genre'].strip().lower() == your_genre.strip().lower():\n",
    "        interesting_books.append(book['title'])\n",
    "    print(interesting_books)\n",
    "    "
   ]
  },
  {
   "cell_type": "code",
   "execution_count": null,
   "id": "8c74002c",
   "metadata": {},
   "outputs": [],
   "source": []
  }
 ],
 "metadata": {
  "kernelspec": {
   "display_name": "Python 3 (ipykernel)",
   "language": "python",
   "name": "python3"
  },
  "language_info": {
   "codemirror_mode": {
    "name": "ipython",
    "version": 3
   },
   "file_extension": ".py",
   "mimetype": "text/x-python",
   "name": "python",
   "nbconvert_exporter": "python",
   "pygments_lexer": "ipython3",
   "version": "3.9.13"
  }
 },
 "nbformat": 4,
 "nbformat_minor": 5
}
