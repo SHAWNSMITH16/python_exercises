{
 "cells": [
  {
   "cell_type": "code",
   "execution_count": 3,
   "id": "79d7cd14",
   "metadata": {},
   "outputs": [
    {
     "name": "stdout",
     "output_type": "stream",
     "text": [
      "How old are you? 39\n",
      "You are  39 years old\n"
     ]
    }
   ],
   "source": [
    "age = int(input(\"How old are you? \"))\n",
    "\n",
    "print(\"You are\", age, \"years old\")"
   ]
  },
  {
   "cell_type": "code",
   "execution_count": 4,
   "id": "d466ed07",
   "metadata": {},
   "outputs": [
    {
     "name": "stdout",
     "output_type": "stream",
     "text": [
      "married\n"
     ]
    }
   ],
   "source": [
    "marital_status = \"married\"\n",
    "print(marital_status)\n"
   ]
  },
  {
   "cell_type": "code",
   "execution_count": 5,
   "id": "bd2be263",
   "metadata": {},
   "outputs": [
    {
     "name": "stdout",
     "output_type": "stream",
     "text": [
      "You made $ 1800 last week\n"
     ]
    }
   ],
   "source": [
    "money = 45 * 40\n",
    "print('You made $', money, 'last week')"
   ]
  },
  {
   "cell_type": "code",
   "execution_count": null,
   "id": "436ba317",
   "metadata": {},
   "outputs": [],
   "source": []
  }
 ],
 "metadata": {
  "kernelspec": {
   "display_name": "Python 3 (ipykernel)",
   "language": "python",
   "name": "python3"
  },
  "language_info": {
   "codemirror_mode": {
    "name": "ipython",
    "version": 3
   },
   "file_extension": ".py",
   "mimetype": "text/x-python",
   "name": "python",
   "nbconvert_exporter": "python",
   "pygments_lexer": "ipython3",
   "version": "3.9.13"
  }
 },
 "nbformat": 4,
 "nbformat_minor": 5
}
