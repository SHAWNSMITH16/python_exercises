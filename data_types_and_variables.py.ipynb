{
 "cells": [
  {
   "cell_type": "code",
   "execution_count": 5,
   "id": "146afce2",
   "metadata": {},
   "outputs": [
    {
     "name": "stdout",
     "output_type": "stream",
     "text": [
      "$ 27\n"
     ]
    }
   ],
   "source": [
    "little_mermaid = 3\n",
    "brother_bear = 5\n",
    "hercules = 1\n",
    "price_per_day = 3\n",
    "\n",
    "total_price = (little_mermaid * price_per_day) + (brother_bear * price_per_day) + (hercules * price_per_day)\n",
    "print('$', total_price)"
   ]
  },
  {
   "cell_type": "code",
   "execution_count": 13,
   "id": "41e4e756",
   "metadata": {},
   "outputs": [
    {
     "name": "stdout",
     "output_type": "stream",
     "text": [
      "How many hours did you work at google? 6\n",
      "How many hours did you work at amazon? 4\n",
      "How many hours did you work at facebook? 10\n",
      "$ 7420\n"
     ]
    }
   ],
   "source": [
    "#Google pays 400 dollars per hour, Amazon 380, and Facebook 350. \n",
    "#How much will you receive in payment for this week? \n",
    "#You worked 10 hours for Facebook, 6 hours for Google and 4 hours for Amazon.\n",
    "\n",
    "g_pay = 400\n",
    "a_pay = 380\n",
    "f_pay = 350\n",
    "\n",
    "g_hours = int(input('How many hours did you work at google? '))\n",
    "a_hours = int(input('How many hours did you work at amazon? '))\n",
    "f_hours = int(input('How many hours did you work at facebook? '))\n",
    "\n",
    "paycheck = (g_pay *g_hours) + (a_pay * a_hours) + (f_pay * f_hours)\n",
    "\n",
    "print('$', paycheck)\n",
    "\n"
   ]
  },
  {
   "cell_type": "code",
   "execution_count": 1,
   "id": "63feb146",
   "metadata": {},
   "outputs": [
    {
     "name": "stdout",
     "output_type": "stream",
     "text": [
      "True\n"
     ]
    }
   ],
   "source": [
    "#A student can be enrolled to a class only if the class is not full \n",
    "#and the class schedule does not conflict with her current schedule.\n",
    "\n",
    "class_is_not_full = True\n",
    "does_not_conflict_with_schedule = True\n",
    "\n",
    "can_be_enrolled = does_not_conflict_with_schedule and class_is_not_full\n",
    "\n",
    "print(can_be_enrolled)\n"
   ]
  },
  {
   "cell_type": "code",
   "execution_count": 28,
   "id": "d8cdfcd4",
   "metadata": {},
   "outputs": [
    {
     "name": "stdout",
     "output_type": "stream",
     "text": [
      "Is the offer valid (y/n)?n\n",
      "I'm sorry, the offer cannot be applied because it is expired.\n"
     ]
    }
   ],
   "source": [
    "#A product offer can be applied only if people buys more than 2 items, \n",
    "#and the offer has not expired. Premium members do not need to buy a specific amount of products.\n",
    "\n",
    "\n",
    "is_offer_valid = input(\"Is the offer still valid (y/n)?\")\n",
    "if is_offer_valid == 'n':\n",
    "    print(\"I'm sorry, the offer cannot be applied because it is expired.\")\n",
    "elif is_offer_valid == 'y':\n",
    "    is_premium_member = input('Are you a premium member (y/n)?')\n",
    "    if is_premium_member == 'y':\n",
    "        print('Congrats! The offer can be applied')\n",
    "    elif is_premium_member == 'n':\n",
    "        amount_of_purchases = int(input(\"How many items did you buy? \"))\n",
    "        if amount_of_purchases < 2:\n",
    "            print(\"I'm sorry, you didn't purchase enough items for the offer to be applied\")\n",
    "        elif amount_of_purchases > 2:\n",
    "            print(\"CONGRATS! You have purchased enough items to apply the offer\")\n",
    "\n",
    "         \n",
    "\n"
   ]
  },
  {
   "cell_type": "code",
   "execution_count": 62,
   "id": "05ffb9f0",
   "metadata": {},
   "outputs": [
    {
     "name": "stdout",
     "output_type": "stream",
     "text": [
      "True\n",
      "False\n",
      "True\n",
      "False\n"
     ]
    }
   ],
   "source": [
    "username = 'codeup'\n",
    "password = 'notastrongpassword '\n",
    "\n",
    "\n",
    "if len(password) > 5:\n",
    "    password_length = True\n",
    "    \n",
    "print(password_length)\n",
    "\n",
    "if len(username) >= 20:\n",
    "    username_length = True\n",
    "else:\n",
    "    username_length = False\n",
    "    \n",
    "print(username_length)\n",
    "\n",
    "if password == username:\n",
    "    password_legit = False\n",
    "else:\n",
    "    password_legit = True\n",
    "\n",
    "print(password_legit)\n",
    "\n",
    "username_valid = not(username.startswith( ' ' ) or (username.endswith( ' ' )))\n",
    "password_valid = not(password.startswith( ' ' ) or (password[-1] == ' '))\n",
    "\n",
    "validation = username_valid and password_valid\n",
    "\n",
    "print(validation)"
   ]
  },
  {
   "cell_type": "code",
   "execution_count": null,
   "id": "f29a0e2c",
   "metadata": {},
   "outputs": [],
   "source": []
  }
 ],
 "metadata": {
  "kernelspec": {
   "display_name": "Python 3 (ipykernel)",
   "language": "python",
   "name": "python3"
  },
  "language_info": {
   "codemirror_mode": {
    "name": "ipython",
    "version": 3
   },
   "file_extension": ".py",
   "mimetype": "text/x-python",
   "name": "python",
   "nbconvert_exporter": "python",
   "pygments_lexer": "ipython3",
   "version": "3.9.13"
  }
 },
 "nbformat": 4,
 "nbformat_minor": 5
}
